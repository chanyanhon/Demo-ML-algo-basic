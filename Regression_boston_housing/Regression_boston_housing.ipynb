{
 "cells": [
  {
   "cell_type": "markdown",
   "id": "c91faf86",
   "metadata": {},
   "source": [
    "# Dataset background information\n",
    "\n",
    "Boston Housing dataset:\n",
    "\n",
    "This data was originally a part of UCI Machine Learning Repository and has been removed now. This data also ships with the scikit-learn library. There are 506 samples and 13 feature variables in this data-set. \n",
    "\n",
    "## Data-dictionary\n",
    "The description of all the features is given below:\n",
    "- CRIM - per capita crime rate by town \n",
    "- ZN - proportion of residential land zoned for lots over 25,000 sq.ft.\n",
    "\n",
    "- INDUS - proportion of non-retail business acres per town.\n",
    "\n",
    "- CHAS - Charles River dummy variable (1 if tract bounds river; 0 otherwise)\n",
    "- NOX - nitric oxides concentration (parts per 10 million)\n",
    "- RM - average number of rooms per dwelling\n",
    "- AGE - proportion of owner-occupied units built prior to 1940\n",
    "- DIS - weighted distances to five Boston employment centres\n",
    "- RAD - index of accessibility to radial highways\n",
    "- TAX - full-value property-tax rate per \\\\$10,000\n",
    "- PTRATIO - pupil-teacher ratio by town\n",
    "- B - 1000(Bk - 0.63)^2 where Bk is the proportion of blacks by town\n",
    "- LSTAT - % lower status of the population\n",
    "- MEDV - Median value of owner-occupied homes in \\\\$1000's\n",
    "\n",
    "# Objective of analysis\n",
    "The objective is to predict the value of prices of the house using the given features."
   ]
  },
  {
   "cell_type": "code",
   "execution_count": 1,
   "id": "95562de2",
   "metadata": {},
   "outputs": [],
   "source": [
    "# Import Libraries needed to load the data\n",
    "import numpy as np\n",
    "import pandas as pd\n",
    "import matplotlib.pyplot as plt \n",
    "%matplotlib inline\n",
    "\n",
    "import seaborn as sns \n",
    "import sklearn\n",
    "from sklearn.linear_model import LinearRegression\n",
    "from sklearn.datasets import load_boston\n",
    "%matplotlib inline\n",
    "\n",
    "import warnings\n",
    "warnings.simplefilter(\"ignore\")"
   ]
  },
  {
   "cell_type": "code",
   "execution_count": 2,
   "id": "f73833ea",
   "metadata": {},
   "outputs": [
    {
     "name": "stdout",
     "output_type": "stream",
     "text": [
      "      CRIM    ZN  INDUS  CHAS    NOX     RM   AGE     DIS  RAD    TAX  \\\n",
      "0  0.00632  18.0   2.31   0.0  0.538  6.575  65.2  4.0900  1.0  296.0   \n",
      "1  0.02731   0.0   7.07   0.0  0.469  6.421  78.9  4.9671  2.0  242.0   \n",
      "2  0.02729   0.0   7.07   0.0  0.469  7.185  61.1  4.9671  2.0  242.0   \n",
      "3  0.03237   0.0   2.18   0.0  0.458  6.998  45.8  6.0622  3.0  222.0   \n",
      "4  0.06905   0.0   2.18   0.0  0.458  7.147  54.2  6.0622  3.0  222.0   \n",
      "\n",
      "   PTRATIO       B  LSTAT  MEDV  \n",
      "0     15.3  396.90   4.98  24.0  \n",
      "1     17.8  396.90   9.14  21.6  \n",
      "2     17.8  392.83   4.03  34.7  \n",
      "3     18.7  394.63   2.94  33.4  \n",
      "4     18.7  396.90   5.33  36.2   \n",
      "\n",
      "Shape of Data is : 506 rows and 14 columns\n"
     ]
    }
   ],
   "source": [
    "# Load the data from sklearn module\n",
    "df = pd.DataFrame(load_boston().data,columns=load_boston().feature_names)\n",
    "df['MEDV'] = pd.DataFrame(load_boston().target)\n",
    "\n",
    "# Glimpse the dataset\n",
    "print(df.head(),\"\\n\")\n",
    "print('Shape of Data is : {} rows and {} columns'.format(df.shape[0],df.shape[1]))"
   ]
  },
  {
   "cell_type": "markdown",
   "id": "9d22c20c",
   "metadata": {},
   "source": [
    "# Table of contents for analysis\n",
    "\n",
    "In this analysis, we will first conduct \n",
    "\n",
    "    1. EDA (Exploratory data analyssis)\n",
    "    2. Feature engineeering\n",
    "    3. train-test split\n",
    "    4. simple linear regresssion  \n",
    "    5. polynomial regression\n",
    "    6. regularization regression (with grid search for hyper-parameter tuning)\n",
    "    7. model evaluation & comparision"
   ]
  },
  {
   "cell_type": "markdown",
   "id": "11edfe42",
   "metadata": {},
   "source": [
    "## EDA (Exploratory data analyssis)"
   ]
  },
  {
   "cell_type": "code",
   "execution_count": 3,
   "id": "c09f7c28",
   "metadata": {},
   "outputs": [
    {
     "name": "stdout",
     "output_type": "stream",
     "text": [
      "             CRIM          ZN       INDUS        CHAS         NOX          RM  \\\n",
      "count  506.000000  506.000000  506.000000  506.000000  506.000000  506.000000   \n",
      "mean     3.613524   11.363636   11.136779    0.069170    0.554695    6.284634   \n",
      "std      8.601545   23.322453    6.860353    0.253994    0.115878    0.702617   \n",
      "min      0.006320    0.000000    0.460000    0.000000    0.385000    3.561000   \n",
      "25%      0.082045    0.000000    5.190000    0.000000    0.449000    5.885500   \n",
      "50%      0.256510    0.000000    9.690000    0.000000    0.538000    6.208500   \n",
      "75%      3.677083   12.500000   18.100000    0.000000    0.624000    6.623500   \n",
      "max     88.976200  100.000000   27.740000    1.000000    0.871000    8.780000   \n",
      "\n",
      "              AGE         DIS         RAD         TAX     PTRATIO           B  \\\n",
      "count  506.000000  506.000000  506.000000  506.000000  506.000000  506.000000   \n",
      "mean    68.574901    3.795043    9.549407  408.237154   18.455534  356.674032   \n",
      "std     28.148861    2.105710    8.707259  168.537116    2.164946   91.294864   \n",
      "min      2.900000    1.129600    1.000000  187.000000   12.600000    0.320000   \n",
      "25%     45.025000    2.100175    4.000000  279.000000   17.400000  375.377500   \n",
      "50%     77.500000    3.207450    5.000000  330.000000   19.050000  391.440000   \n",
      "75%     94.075000    5.188425   24.000000  666.000000   20.200000  396.225000   \n",
      "max    100.000000   12.126500   24.000000  711.000000   22.000000  396.900000   \n",
      "\n",
      "            LSTAT        MEDV  \n",
      "count  506.000000  506.000000  \n",
      "mean    12.653063   22.532806  \n",
      "std      7.141062    9.197104  \n",
      "min      1.730000    5.000000  \n",
      "25%      6.950000   17.025000  \n",
      "50%     11.360000   21.200000  \n",
      "75%     16.955000   25.000000  \n",
      "max     37.970000   50.000000   \n",
      "\n",
      "<class 'pandas.core.frame.DataFrame'>\n",
      "RangeIndex: 506 entries, 0 to 505\n",
      "Data columns (total 14 columns):\n",
      " #   Column   Non-Null Count  Dtype  \n",
      "---  ------   --------------  -----  \n",
      " 0   CRIM     506 non-null    float64\n",
      " 1   ZN       506 non-null    float64\n",
      " 2   INDUS    506 non-null    float64\n",
      " 3   CHAS     506 non-null    float64\n",
      " 4   NOX      506 non-null    float64\n",
      " 5   RM       506 non-null    float64\n",
      " 6   AGE      506 non-null    float64\n",
      " 7   DIS      506 non-null    float64\n",
      " 8   RAD      506 non-null    float64\n",
      " 9   TAX      506 non-null    float64\n",
      " 10  PTRATIO  506 non-null    float64\n",
      " 11  B        506 non-null    float64\n",
      " 12  LSTAT    506 non-null    float64\n",
      " 13  MEDV     506 non-null    float64\n",
      "dtypes: float64(14)\n",
      "memory usage: 55.5 KB\n",
      "None\n"
     ]
    }
   ],
   "source": [
    "print(df.describe(),'\\n')\n",
    "print(df.info())"
   ]
  },
  {
   "cell_type": "markdown",
   "id": "08fa2858",
   "metadata": {},
   "source": [
    "- for ZA, its 0.00 for 25%,50% percentiles, while the mean is 11.3 which implied that the distribution should be highly skewed. \n",
    "- for CHAS, its 0.00 for 25%,50%,75% percentiles, & max is 1.00 , implied that its a categorical value with 1/0 value."
   ]
  },
  {
   "cell_type": "code",
   "execution_count": 4,
   "id": "b6584b00",
   "metadata": {},
   "outputs": [
    {
     "data": {
      "text/plain": [
       "CRIM       0\n",
       "ZN         0\n",
       "INDUS      0\n",
       "CHAS       0\n",
       "NOX        0\n",
       "RM         0\n",
       "AGE        0\n",
       "DIS        0\n",
       "RAD        0\n",
       "TAX        0\n",
       "PTRATIO    0\n",
       "B          0\n",
       "LSTAT      0\n",
       "MEDV       0\n",
       "dtype: int64"
      ]
     },
     "execution_count": 4,
     "metadata": {},
     "output_type": "execute_result"
    }
   ],
   "source": [
    "# check for missing values in all the columns\n",
    "df.isnull().sum()"
   ]
  },
  {
   "cell_type": "markdown",
   "id": "fd2e6df4",
   "metadata": {},
   "source": [
    "## Feature engineering (for target variable - MEDV)"
   ]
  },
  {
   "cell_type": "code",
   "execution_count": 5,
   "id": "13853f54",
   "metadata": {},
   "outputs": [
    {
     "data": {
      "image/png": "[encoded data removed]",
      "text/plain": [
       "<Figure size 792x576 with 1 Axes>"
      ]
     },
     "metadata": {},
     "output_type": "display_data"
    }
   ],
   "source": [
    "# Visualize the dataset\n",
    "sns.set(rc={'figure.figsize':(11,8)})\n",
    "sns.distplot(df['MEDV'], bins=30)\n",
    "plt.show()"
   ]
  },
  {
   "cell_type": "markdown",
   "id": "ab360197",
   "metadata": {},
   "source": [
    "Linear Regression assumes a normally distributed residuals"
   ]
  },
  {
   "cell_type": "code",
   "execution_count": 6,
   "id": "992786c8",
   "metadata": {},
   "outputs": [
    {
     "data": {
      "text/plain": [
       "NormaltestResult(statistic=90.9746873700967, pvalue=1.7583188871696095e-20)"
      ]
     },
     "execution_count": 6,
     "metadata": {},
     "output_type": "execute_result"
    }
   ],
   "source": [
    "# Teseting for normality\n",
    "from scipy.stats.mstats import normaltest # D'Agostino K^2 Test\n",
    "normaltest(df.MEDV.values)"
   ]
  },
  {
   "cell_type": "markdown",
   "id": "e8aa5732",
   "metadata": {},
   "source": [
    "p-value _extremely_ low (i.e. p-value=1.7e-20). Our y variable we've been dealing with this whole time was not normally distributed!\n",
    "\n",
    "* __D'Agostino K^2 Test__ is a statistical test that tests whether a distribution is normally distributed or not. It isn't perfect, but suffice it to say: \n",
    "    * This test outputs a \"p-value\". The _higher_ this p-value is the _closer_ the distribution is to normal.\n",
    "    * Frequentist statisticians would say that you accept that the distribution is normal (more specifically: fail to reject the null hypothesis that it is normal) if p > 0.05.\n",
    "    \n"
   ]
  },
  {
   "cell_type": "markdown",
   "id": "cc420a4a",
   "metadata": {},
   "source": [
    "Generally, the target variable (MEDV) distributed normally. However,there are only few outliers in the tail (i.e. MEDV = 50). \n",
    "\n",
    "The max value of MEDV is 50 which I assume those MEDV >50 will adjust as 50 in this dataset. For better prediction, I will drop the records with MEDV >=50"
   ]
  },
  {
   "cell_type": "code",
   "execution_count": 7,
   "id": "ce965960",
   "metadata": {},
   "outputs": [
    {
     "name": "stdout",
     "output_type": "stream",
     "text": [
      "(490, 14)\n"
     ]
    },
    {
     "data": {
      "text/plain": [
       "NormaltestResult(statistic=51.788750978806746, pvalue=5.678264421954442e-12)"
      ]
     },
     "execution_count": 7,
     "metadata": {},
     "output_type": "execute_result"
    }
   ],
   "source": [
    "df = df[df['MEDV']<50]\n",
    "print(df.shape) \n",
    "\n",
    "# Teseting for normality\n",
    "from scipy.stats.mstats import normaltest # D'Agostino K^2 Test\n",
    "normaltest(df.MEDV.values)"
   ]
  },
  {
   "cell_type": "markdown",
   "id": "3ecd506d",
   "metadata": {},
   "source": [
    "The p-value improved (i.e. p-value=5.6e-12). However, still a long way to be in acceptable level (i.e. p-value > 0.05\")\n",
    "\n",
    "Therefore, we can apply transformation and geet it to be normally distributed:\n",
    "\n",
    "* Box cox transformation\n",
    "\n",
    "The box cox transformation is a parametrized transformation that tries to get distributions \"as close to a normal distribution as possible\".\n",
    "\n",
    "It is defined as:\n",
    "\n",
    "$$ \\text{boxcox}(y_i) = \\frac{y_i^{\\lambda} - 1}{\\lambda} $$\n",
    "\n",
    "You can think of as a generalization of the square root function: the square root function uses the exponent of 0.5, but box cox lets its exponent vary so it can find the best one."
   ]
  },
  {
   "cell_type": "code",
   "execution_count": 8,
   "id": "2d9538db",
   "metadata": {},
   "outputs": [],
   "source": [
    "from scipy.stats import boxcox\n",
    "bc_result = boxcox(df.MEDV)\n",
    "boxcox_medv = bc_result[0]\n",
    "lam = bc_result[1] # lambda value"
   ]
  },
  {
   "cell_type": "code",
   "execution_count": 9,
   "id": "4d73a6a2",
   "metadata": {},
   "outputs": [
    {
     "data": {
      "image/png": "[encoded data removed]",
      "text/plain": [
       "<Figure size 792x576 with 1 Axes>"
      ]
     },
     "metadata": {},
     "output_type": "display_data"
    },
    {
     "name": "stdout",
     "output_type": "stream",
     "text": [
      "NormaltestResult(statistic=3.208799390351443, pvalue=0.2010101860833068)\n"
     ]
    }
   ],
   "source": [
    "sns.set(rc={'figure.figsize':(11,8)})\n",
    "sns.distplot(df['MEDV'], bins=30) # old plot in blue\n",
    "sns.distplot(boxcox_medv, bins=30,  color=\"g\") # new plot in green\n",
    "plt.show()\n",
    "\n",
    "print(normaltest(boxcox_medv))"
   ]
  },
  {
   "cell_type": "markdown",
   "id": "817275bc",
   "metadata": {},
   "source": [
    "we can see that the new plot in green is more & more normally distributed. \n",
    "\n",
    "Also, the p-value is 0.20 which is >0.05, means that null hypothesis will not be rejected."
   ]
  },
  {
   "cell_type": "markdown",
   "id": "a0e2eeb6",
   "metadata": {},
   "source": [
    "## train-test split"
   ]
  },
  {
   "cell_type": "code",
   "execution_count": 10,
   "id": "6482dcf6",
   "metadata": {},
   "outputs": [],
   "source": [
    "from sklearn.linear_model import LinearRegression\n",
    "from sklearn.model_selection import train_test_split\n",
    "from sklearn.preprocessing import (StandardScaler, \n",
    "                                   PolynomialFeatures)\n",
    "\n",
    "lr = LinearRegression()\n",
    "X = df.drop(\"MEDV\", axis=1)\n",
    "y = df[\"MEDV\"]\n",
    "\n",
    "X_train, X_test, y_train, y_test = train_test_split(X, y, test_size=0.2, \n",
    "                                                    random_state=19)"
   ]
  },
  {
   "cell_type": "markdown",
   "id": "916895bf",
   "metadata": {},
   "source": [
    "## Simple linear regresssion  \n",
    "\n",
    "for simple demostration of regression, we will skip k-fold cross-validation, instead, just a simple 8:2 train-test split."
   ]
  },
  {
   "cell_type": "code",
   "execution_count": 11,
   "id": "2a66903f",
   "metadata": {},
   "outputs": [],
   "source": [
    "lr = LinearRegression()\n",
    "X = df.drop(\"MEDV\", axis=1)\n",
    "y = df[\"MEDV\"]\n",
    "\n",
    "X_train, X_test, y_train, y_test = train_test_split(X, y, test_size=0.2, \n",
    "                                                    random_state=19)"
   ]
  },
  {
   "cell_type": "markdown",
   "id": "7a9033ad",
   "metadata": {},
   "source": [
    "As the feature variables are in \"float\" datatype but in different scale, we will apply standard scaler to all the features"
   ]
  },
  {
   "cell_type": "code",
   "execution_count": 12,
   "id": "f8075ed1",
   "metadata": {},
   "outputs": [],
   "source": [
    "s = StandardScaler()\n",
    "X_train_s = s.fit_transform(X_train)\n",
    "X_test_s = s.transform(X_test)"
   ]
  },
  {
   "cell_type": "markdown",
   "id": "c81fc9d3",
   "metadata": {},
   "source": [
    "Also, we will do the box-cox transformation"
   ]
  },
  {
   "cell_type": "code",
   "execution_count": 13,
   "id": "94dfe0a8",
   "metadata": {},
   "outputs": [],
   "source": [
    "bc_result2 = boxcox(y_train)\n",
    "y_train_bc = bc_result2[0]\n",
    "lam2 = bc_result2[1]"
   ]
  },
  {
   "cell_type": "code",
   "execution_count": 14,
   "id": "6cc065c2",
   "metadata": {},
   "outputs": [],
   "source": [
    "lr.fit(X_train_s, y_train_bc)\n",
    "y_pred_bc = lr.predict(X_test_s)\n",
    "\n",
    "# Inverse transform back to normal status (not the box-cox state)\n",
    "from scipy.special import inv_boxcox\n",
    "y_pred_tran = inv_boxcox(y_pred_bc, lam2)"
   ]
  },
  {
   "cell_type": "markdown",
   "id": "eb642301",
   "metadata": {},
   "source": [
    "### model evaluation metrics\n",
    "\n",
    "For regression, we will use RMSE & R^2. But for models comparison with different number of features, we will use adjusted R^2 instead as the number of features variate.\n",
    "\n",
    "RMSE (root-mean-squared-error): penalizes more on the high-deviated error (far from the regression line)\n",
    "\n",
    "R^2 (R-squared): tells the performance of your model, not the loss in an absolute sense that how many wells did your model perform."
   ]
  },
  {
   "cell_type": "code",
   "execution_count": 15,
   "id": "f8fb09f6",
   "metadata": {},
   "outputs": [
    {
     "name": "stdout",
     "output_type": "stream",
     "text": [
      "MSE 13.825142905821151\n",
      "R2 0.7788249103970966\n",
      "adj_R2 0.7727844142524795\n"
     ]
    }
   ],
   "source": [
    "from sklearn.metrics import r2_score\n",
    "from sklearn.metrics import mean_squared_error\n",
    "\n",
    "MSE_simple = mean_squared_error(y_test,y_pred_tran)\n",
    "r2_simple = r2_score(y_test,y_pred_tran)\n",
    "\n",
    "print(\"MSE\",mean_squared_error(y_test,y_pred_tran))\n",
    "print(\"R2\",r2_score(y_test,y_pred_tran))\n",
    "\n",
    "Adj_r2 = 1 - (1-r2_score(y_test, y_pred_tran)) * (len(y)-1)/(len(y)-X.shape[1]-1)\n",
    "print(\"adj_R2\",Adj_r2)\n"
   ]
  },
  {
   "cell_type": "markdown",
   "id": "d6259693",
   "metadata": {},
   "source": [
    "In sciki-learn, it doesn't include such function. So, for feature selection, after standard scaling, we choose features based on its absolute amount of coefficient. The larger the coefficient, the larger the impact on the target.\n",
    "\n",
    "In R programming, the \"lm\" regression syntax can generate p-value as well for each feature so we can decide its statistical significance level, in order to have better feature selection. "
   ]
  },
  {
   "cell_type": "code",
   "execution_count": 16,
   "id": "00fe70a0",
   "metadata": {},
   "outputs": [
    {
     "data": {
      "text/html": [
       "<div>\n",
       "<style scoped>\n",
       "    .dataframe tbody tr th:only-of-type {\n",
       "        vertical-align: middle;\n",
       "    }\n",
       "\n",
       "    .dataframe tbody tr th {\n",
       "        vertical-align: top;\n",
       "    }\n",
       "\n",
       "    .dataframe thead th {\n",
       "        text-align: right;\n",
       "    }\n",
       "</style>\n",
       "<table border=\"1\" class=\"dataframe\">\n",
       "  <thead>\n",
       "    <tr style=\"text-align: right;\">\n",
       "      <th></th>\n",
       "      <th>0</th>\n",
       "      <th>1</th>\n",
       "      <th>2</th>\n",
       "    </tr>\n",
       "  </thead>\n",
       "  <tbody>\n",
       "    <tr>\n",
       "      <th>12</th>\n",
       "      <td>LSTAT</td>\n",
       "      <td>-0.615821</td>\n",
       "      <td>0.615821</td>\n",
       "    </tr>\n",
       "    <tr>\n",
       "      <th>9</th>\n",
       "      <td>TAX</td>\n",
       "      <td>-0.441434</td>\n",
       "      <td>0.441434</td>\n",
       "    </tr>\n",
       "    <tr>\n",
       "      <th>8</th>\n",
       "      <td>RAD</td>\n",
       "      <td>0.435455</td>\n",
       "      <td>0.435455</td>\n",
       "    </tr>\n",
       "    <tr>\n",
       "      <th>7</th>\n",
       "      <td>DIS</td>\n",
       "      <td>-0.431481</td>\n",
       "      <td>0.431481</td>\n",
       "    </tr>\n",
       "    <tr>\n",
       "      <th>5</th>\n",
       "      <td>RM</td>\n",
       "      <td>0.319416</td>\n",
       "      <td>0.319416</td>\n",
       "    </tr>\n",
       "    <tr>\n",
       "      <th>10</th>\n",
       "      <td>PTRATIO</td>\n",
       "      <td>-0.298962</td>\n",
       "      <td>0.298962</td>\n",
       "    </tr>\n",
       "    <tr>\n",
       "      <th>4</th>\n",
       "      <td>NOX</td>\n",
       "      <td>-0.294490</td>\n",
       "      <td>0.294490</td>\n",
       "    </tr>\n",
       "    <tr>\n",
       "      <th>0</th>\n",
       "      <td>CRIM</td>\n",
       "      <td>-0.259776</td>\n",
       "      <td>0.259776</td>\n",
       "    </tr>\n",
       "    <tr>\n",
       "      <th>11</th>\n",
       "      <td>B</td>\n",
       "      <td>0.130513</td>\n",
       "      <td>0.130513</td>\n",
       "    </tr>\n",
       "    <tr>\n",
       "      <th>1</th>\n",
       "      <td>ZN</td>\n",
       "      <td>0.128100</td>\n",
       "      <td>0.128100</td>\n",
       "    </tr>\n",
       "    <tr>\n",
       "      <th>6</th>\n",
       "      <td>AGE</td>\n",
       "      <td>-0.094760</td>\n",
       "      <td>0.094760</td>\n",
       "    </tr>\n",
       "    <tr>\n",
       "      <th>2</th>\n",
       "      <td>INDUS</td>\n",
       "      <td>0.022381</td>\n",
       "      <td>0.022381</td>\n",
       "    </tr>\n",
       "    <tr>\n",
       "      <th>3</th>\n",
       "      <td>CHAS</td>\n",
       "      <td>0.012518</td>\n",
       "      <td>0.012518</td>\n",
       "    </tr>\n",
       "  </tbody>\n",
       "</table>\n",
       "</div>"
      ],
      "text/plain": [
       "          0         1         2\n",
       "12    LSTAT -0.615821  0.615821\n",
       "9       TAX -0.441434  0.441434\n",
       "8       RAD  0.435455  0.435455\n",
       "7       DIS -0.431481  0.431481\n",
       "5        RM  0.319416  0.319416\n",
       "10  PTRATIO -0.298962  0.298962\n",
       "4       NOX -0.294490  0.294490\n",
       "0      CRIM -0.259776  0.259776\n",
       "11        B  0.130513  0.130513\n",
       "1        ZN  0.128100  0.128100\n",
       "6       AGE -0.094760  0.094760\n",
       "2     INDUS  0.022381  0.022381\n",
       "3      CHAS  0.012518  0.012518"
      ]
     },
     "execution_count": 16,
     "metadata": {},
     "output_type": "execute_result"
    }
   ],
   "source": [
    "# showing top 10 features having highest absolute coefficient value\n",
    "pd.DataFrame(zip(X_train.columns, lr.coef_, abs(lr.coef_))).sort_values(by=2, ascending=False) \n"
   ]
  },
  {
   "cell_type": "markdown",
   "id": "f6238601",
   "metadata": {},
   "source": [
    "The top 5 features includes LSTAT, TAX, RAD, DIS, RM"
   ]
  },
  {
   "cell_type": "markdown",
   "id": "d510058d",
   "metadata": {},
   "source": [
    "## Polynomial regression"
   ]
  },
  {
   "cell_type": "code",
   "execution_count": 17,
   "id": "88cea175",
   "metadata": {},
   "outputs": [],
   "source": [
    "from sklearn.preprocessing import PolynomialFeatures"
   ]
  },
  {
   "cell_type": "markdown",
   "id": "6a2395c8",
   "metadata": {},
   "source": [
    "### Create polynomial features"
   ]
  },
  {
   "cell_type": "code",
   "execution_count": 18,
   "id": "fd98d55b",
   "metadata": {},
   "outputs": [],
   "source": [
    "pf = PolynomialFeatures(degree=2, include_bias=False)\n",
    "X_pf_train = pf.fit_transform(X_train)\n",
    "X_pf_test = pf.transform(X_test)"
   ]
  },
  {
   "cell_type": "code",
   "execution_count": 19,
   "id": "6de209cb",
   "metadata": {},
   "outputs": [],
   "source": [
    "# list of polynomial features column names\n",
    "X_pf_col_name = pf.get_feature_names(X_train.columns)"
   ]
  },
  {
   "cell_type": "code",
   "execution_count": 20,
   "id": "56be776b",
   "metadata": {},
   "outputs": [],
   "source": [
    "# standard scaler on the ploynomial features\n",
    "X_pf_train_s = s.fit_transform(X_pf_train)\n",
    "X_pf_test_s = s.transform(X_pf_test)"
   ]
  },
  {
   "cell_type": "code",
   "execution_count": 21,
   "id": "81c213ca",
   "metadata": {},
   "outputs": [],
   "source": [
    "# we create a new linear regression instances for polynomial regress\n",
    "lr_pf = LinearRegression()\n",
    "lr_pf.fit(X_pf_train_s, y_train_bc)\n",
    "y_pf_pred_bc = lr_pf.predict(X_pf_test_s)\n",
    "\n",
    "# Inverse transform back to normal status (not the box-cox state)\n",
    "from scipy.special import inv_boxcox\n",
    "y_pf_pred_tran = inv_boxcox(y_pf_pred_bc, lam2)"
   ]
  },
  {
   "cell_type": "code",
   "execution_count": 22,
   "id": "03e899fc",
   "metadata": {},
   "outputs": [
    {
     "name": "stdout",
     "output_type": "stream",
     "text": [
      "MSE 10.258289520900945\n",
      "R2 0.8358875478240106\n",
      "adj_R2 0.8314054850544983\n"
     ]
    }
   ],
   "source": [
    "MSE_simple = mean_squared_error(y_test,y_pf_pred_tran)\n",
    "r2_simple = r2_score(y_test,y_pf_pred_tran)\n",
    "\n",
    "print(\"MSE\",mean_squared_error(y_test,y_pf_pred_tran))\n",
    "print(\"R2\",r2_score(y_test,y_pf_pred_tran))\n",
    "\n",
    "Adj_r2 = 1 - (1-r2_score(y_test, y_pf_pred_tran)) * (len(y)-1)/(len(y)-X.shape[1]-1)\n",
    "print(\"adj_R2\",Adj_r2)"
   ]
  },
  {
   "cell_type": "markdown",
   "id": "5556f480",
   "metadata": {},
   "source": [
    "The MSE & R-squared & adjusted R-squared improved after adding polynomial featuers."
   ]
  },
  {
   "cell_type": "code",
   "execution_count": 23,
   "id": "ec77f973",
   "metadata": {},
   "outputs": [
    {
     "data": {
      "text/html": [
       "<div>\n",
       "<style scoped>\n",
       "    .dataframe tbody tr th:only-of-type {\n",
       "        vertical-align: middle;\n",
       "    }\n",
       "\n",
       "    .dataframe tbody tr th {\n",
       "        vertical-align: top;\n",
       "    }\n",
       "\n",
       "    .dataframe thead th {\n",
       "        text-align: right;\n",
       "    }\n",
       "</style>\n",
       "<table border=\"1\" class=\"dataframe\">\n",
       "  <thead>\n",
       "    <tr style=\"text-align: right;\">\n",
       "      <th></th>\n",
       "      <th>0</th>\n",
       "      <th>1</th>\n",
       "      <th>2</th>\n",
       "    </tr>\n",
       "  </thead>\n",
       "  <tbody>\n",
       "    <tr>\n",
       "      <th>0</th>\n",
       "      <td>CRIM</td>\n",
       "      <td>-12.020087</td>\n",
       "      <td>12.020087</td>\n",
       "    </tr>\n",
       "    <tr>\n",
       "      <th>22</th>\n",
       "      <td>CRIM TAX</td>\n",
       "      <td>10.910273</td>\n",
       "      <td>10.910273</td>\n",
       "    </tr>\n",
       "    <tr>\n",
       "      <th>21</th>\n",
       "      <td>CRIM RAD</td>\n",
       "      <td>-8.154742</td>\n",
       "      <td>8.154742</td>\n",
       "    </tr>\n",
       "    <tr>\n",
       "      <th>95</th>\n",
       "      <td>TAX PTRATIO</td>\n",
       "      <td>6.354623</td>\n",
       "      <td>6.354623</td>\n",
       "    </tr>\n",
       "    <tr>\n",
       "      <th>23</th>\n",
       "      <td>CRIM PTRATIO</td>\n",
       "      <td>5.716689</td>\n",
       "      <td>5.716689</td>\n",
       "    </tr>\n",
       "    <tr>\n",
       "      <th>9</th>\n",
       "      <td>TAX</td>\n",
       "      <td>-5.126624</td>\n",
       "      <td>5.126624</td>\n",
       "    </tr>\n",
       "    <tr>\n",
       "      <th>90</th>\n",
       "      <td>RAD TAX</td>\n",
       "      <td>4.983564</td>\n",
       "      <td>4.983564</td>\n",
       "    </tr>\n",
       "    <tr>\n",
       "      <th>8</th>\n",
       "      <td>RAD</td>\n",
       "      <td>4.855731</td>\n",
       "      <td>4.855731</td>\n",
       "    </tr>\n",
       "    <tr>\n",
       "      <th>89</th>\n",
       "      <td>RAD^2</td>\n",
       "      <td>-4.545919</td>\n",
       "      <td>4.545919</td>\n",
       "    </tr>\n",
       "    <tr>\n",
       "      <th>2</th>\n",
       "      <td>INDUS</td>\n",
       "      <td>-3.792526</td>\n",
       "      <td>3.792526</td>\n",
       "    </tr>\n",
       "  </tbody>\n",
       "</table>\n",
       "</div>"
      ],
      "text/plain": [
       "               0          1          2\n",
       "0           CRIM -12.020087  12.020087\n",
       "22      CRIM TAX  10.910273  10.910273\n",
       "21      CRIM RAD  -8.154742   8.154742\n",
       "95   TAX PTRATIO   6.354623   6.354623\n",
       "23  CRIM PTRATIO   5.716689   5.716689\n",
       "9            TAX  -5.126624   5.126624\n",
       "90       RAD TAX   4.983564   4.983564\n",
       "8            RAD   4.855731   4.855731\n",
       "89         RAD^2  -4.545919   4.545919\n",
       "2          INDUS  -3.792526   3.792526"
      ]
     },
     "execution_count": 23,
     "metadata": {},
     "output_type": "execute_result"
    }
   ],
   "source": [
    "# showing top 10 features having highest absolute coefficient value\n",
    "pd.DataFrame(zip(X_pf_col_name, lr_pf.coef_, abs(lr_pf.coef_))).sort_values(by=2, ascending=False)[:10] \n"
   ]
  },
  {
   "cell_type": "markdown",
   "id": "74a6e1d1",
   "metadata": {},
   "source": [
    "To recap:\n",
    "Simple LR: The top 5 features includes LSTAT, TAX, RAD, DIS, RM\n",
    "\n",
    "By above analysis:\n",
    "Polynomial LR: The top 5 features includes CRIM, TAX, RAD, PTRATIO\n",
    "\n",
    "Those are in-common are: TAX, RAD"
   ]
  },
  {
   "cell_type": "markdown",
   "id": "c8429e1f",
   "metadata": {},
   "source": [
    "## Regularization regression (with grid search for hyper-parameter tuning)"
   ]
  },
  {
   "cell_type": "markdown",
   "id": "fc122f1c",
   "metadata": {},
   "source": [
    "For demostration, we will perform lasso regression as it has the same syntax of ridge regression in terms of regression & grid search for hyperparameter tuning"
   ]
  },
  {
   "cell_type": "code",
   "execution_count": 24,
   "id": "2ce89e1b",
   "metadata": {},
   "outputs": [
    {
     "name": "stdout",
     "output_type": "stream",
     "text": [
      "[-0.          0.         -0.          0.         -0.          0.\n",
      " -0.          0.         -0.         -0.         -0.          0.\n",
      " -0.         -0.          0.         -0.          0.         -0.\n",
      " -0.         -0.         -0.         -0.         -0.         -0.\n",
      " -0.         -0.          0.          0.          0.          0.\n",
      "  0.          0.          0.          0.          0.          0.\n",
      "  0.          0.         -0.          0.         -0.         -0.\n",
      " -0.         -0.         -0.         -0.         -0.         -0.\n",
      " -0.          0.          0.          0.          0.          0.\n",
      "  0.          0.          0.          0.          0.         -0.\n",
      " -0.         -0.          0.         -0.         -0.         -0.\n",
      "  0.         -0.          0.         -0.          0.         -0.\n",
      " -0.          0.          0.         -0.         -0.          0.\n",
      " -0.         -0.         -0.         -0.         -0.          0.\n",
      " -0.          0.          0.          0.         -0.         -0.\n",
      " -0.         -0.         -0.         -0.         -0.         -0.\n",
      " -0.         -0.         -0.          0.         -0.20108674  0.\n",
      " -0.         -0.        ]\n"
     ]
    }
   ],
   "source": [
    "from sklearn.linear_model import Lasso\n",
    "\n",
    "las = Lasso()\n",
    "las.fit(X_pf_train_s, y_train_bc)\n",
    "print(las.coef_ )"
   ]
  },
  {
   "cell_type": "markdown",
   "id": "871b96c9",
   "metadata": {},
   "source": [
    "For Lasso regression, with more regularization (higher alpha) we will expect the penalty for higher weights to be greater and thus the coefficients to be pushed down. Thus a higher alpha means lower magnitude with more coefficients pushed down to 0.\n",
    "\n",
    "As the default hyperparameter-alpha (Constant that multiplies the L1 term) for lasso regression is 1.0, which heavily peanlize the coefficient which makes 95% of them becoming 0.\n",
    "\n",
    "Now, we have to find the optimum alpha which improves the model by tuning the alpha (hyper-parameter tuning with grid-search)"
   ]
  },
  {
   "cell_type": "code",
   "execution_count": 25,
   "id": "04d4e5ad",
   "metadata": {},
   "outputs": [],
   "source": [
    "from sklearn.model_selection import GridSearchCV, train_test_split"
   ]
  },
  {
   "cell_type": "code",
   "execution_count": 26,
   "id": "5695412b",
   "metadata": {},
   "outputs": [],
   "source": [
    "lasso_params = {'alpha':[0.0001,0.001,0.01, 0.1, 0.5]}"
   ]
  },
  {
   "cell_type": "code",
   "execution_count": 27,
   "id": "6d6a0519",
   "metadata": {},
   "outputs": [
    {
     "data": {
      "text/plain": [
       "Lasso(alpha=0.001)"
      ]
     },
     "execution_count": 27,
     "metadata": {},
     "output_type": "execute_result"
    }
   ],
   "source": [
    "GridSearchCV(Lasso(),param_grid=lasso_params).fit(X_pf_train_s, y_train_bc).best_estimator_"
   ]
  },
  {
   "cell_type": "markdown",
   "id": "0db928fd",
   "metadata": {},
   "source": [
    "after getting alpha = 0.001 for best estimator alpha, we try to test more values between 0.0001 & 0.01"
   ]
  },
  {
   "cell_type": "code",
   "execution_count": 28,
   "id": "7b1a9a4f",
   "metadata": {},
   "outputs": [],
   "source": [
    "lasso_params = {'alpha':[0.0001,0.0005,0.001, 0.0015, 0.002]}"
   ]
  },
  {
   "cell_type": "code",
   "execution_count": 29,
   "id": "71e1f800",
   "metadata": {},
   "outputs": [
    {
     "data": {
      "text/plain": [
       "Lasso(alpha=0.0015)"
      ]
     },
     "execution_count": 29,
     "metadata": {},
     "output_type": "execute_result"
    }
   ],
   "source": [
    "GridSearchCV(Lasso(),param_grid=lasso_params).fit(X_pf_train_s, y_train_bc).best_estimator_"
   ]
  },
  {
   "cell_type": "markdown",
   "id": "ebaa7290",
   "metadata": {},
   "source": [
    "the best alpha value has been updated to 0.0015. we will use this value as our lasso regression alpha"
   ]
  },
  {
   "cell_type": "code",
   "execution_count": 31,
   "id": "12e0aa03",
   "metadata": {},
   "outputs": [
    {
     "name": "stdout",
     "output_type": "stream",
     "text": [
      "[ 0.         -0.          0.          0.          0.         -0.\n",
      "  0.22384555 -1.04760158  0.11058241  0.         -0.          0.\n",
      "  0.21695849  0.27491106  0.          0.14647868  0.14561214 -0.82078535\n",
      "  0.14496791  0.          0.          0.          0.          0.\n",
      " -0.09402768 -0.01282649  0.03086525 -0.07467588 -0.0328493  -0.\n",
      "  0.         -0.         -0.         -0.11270789  0.12562697  0.08211767\n",
      " -0.         -0.02131139  0.15487656 -0.          0.19805288 -0.\n",
      "  0.09076574 -0.          0.          0.         -0.09679857 -0.\n",
      " -0.51714178  0.         -0.13586882 -0.30711426  0.          0.39337973\n",
      " -0.15700139 -0.         -0.          0.0486579   0.07768891  0.\n",
      " -0.22867049 -0.         -0.          0.          0.         -0.33188105\n",
      "  0.44857236 -0.          1.17900857 -0.          0.         -0.19782117\n",
      " -1.30664979 -0.39613501  0.56683864 -0.48941698  0.          0.08280607\n",
      "  0.34354294  0.         -0.         -0.71872461 -0.03760432  0.42972613\n",
      "  0.33059085 -0.05062658  0.          0.         -0.         -0.\n",
      " -0.          0.         -0.11317188 -0.         -0.          1.54195127\n",
      " -0.         -0.78549743  0.          0.         -0.         -0.25826054\n",
      " -0.          0.62710761]\n"
     ]
    }
   ],
   "source": [
    "# Decreasing regularization and ensuring convergence\n",
    "las0015 = Lasso(alpha = 0.0015, max_iter=100000)\n",
    "las0015.fit(X_pf_train_s, y_train_bc)\n",
    "print(las0015.coef_ )"
   ]
  },
  {
   "cell_type": "code",
   "execution_count": 32,
   "id": "f21ea8ff",
   "metadata": {},
   "outputs": [
    {
     "data": {
      "text/html": [
       "<div>\n",
       "<style scoped>\n",
       "    .dataframe tbody tr th:only-of-type {\n",
       "        vertical-align: middle;\n",
       "    }\n",
       "\n",
       "    .dataframe tbody tr th {\n",
       "        vertical-align: top;\n",
       "    }\n",
       "\n",
       "    .dataframe thead th {\n",
       "        text-align: right;\n",
       "    }\n",
       "</style>\n",
       "<table border=\"1\" class=\"dataframe\">\n",
       "  <thead>\n",
       "    <tr style=\"text-align: right;\">\n",
       "      <th></th>\n",
       "      <th>0</th>\n",
       "      <th>1</th>\n",
       "      <th>2</th>\n",
       "    </tr>\n",
       "  </thead>\n",
       "  <tbody>\n",
       "    <tr>\n",
       "      <th>95</th>\n",
       "      <td>TAX PTRATIO</td>\n",
       "      <td>1.541951</td>\n",
       "      <td>1.541951</td>\n",
       "    </tr>\n",
       "    <tr>\n",
       "      <th>72</th>\n",
       "      <td>RM TAX</td>\n",
       "      <td>-1.306650</td>\n",
       "      <td>1.306650</td>\n",
       "    </tr>\n",
       "    <tr>\n",
       "      <th>68</th>\n",
       "      <td>RM^2</td>\n",
       "      <td>1.179009</td>\n",
       "      <td>1.179009</td>\n",
       "    </tr>\n",
       "    <tr>\n",
       "      <th>7</th>\n",
       "      <td>DIS</td>\n",
       "      <td>-1.047602</td>\n",
       "      <td>1.047602</td>\n",
       "    </tr>\n",
       "    <tr>\n",
       "      <th>17</th>\n",
       "      <td>CRIM NOX</td>\n",
       "      <td>-0.820785</td>\n",
       "      <td>0.820785</td>\n",
       "    </tr>\n",
       "    <tr>\n",
       "      <th>97</th>\n",
       "      <td>TAX LSTAT</td>\n",
       "      <td>-0.785497</td>\n",
       "      <td>0.785497</td>\n",
       "    </tr>\n",
       "    <tr>\n",
       "      <th>81</th>\n",
       "      <td>AGE B</td>\n",
       "      <td>-0.718725</td>\n",
       "      <td>0.718725</td>\n",
       "    </tr>\n",
       "    <tr>\n",
       "      <th>103</th>\n",
       "      <td>LSTAT^2</td>\n",
       "      <td>0.627108</td>\n",
       "      <td>0.627108</td>\n",
       "    </tr>\n",
       "    <tr>\n",
       "      <th>74</th>\n",
       "      <td>RM B</td>\n",
       "      <td>0.566839</td>\n",
       "      <td>0.566839</td>\n",
       "    </tr>\n",
       "    <tr>\n",
       "      <th>48</th>\n",
       "      <td>INDUS LSTAT</td>\n",
       "      <td>-0.517142</td>\n",
       "      <td>0.517142</td>\n",
       "    </tr>\n",
       "  </tbody>\n",
       "</table>\n",
       "</div>"
      ],
      "text/plain": [
       "               0         1         2\n",
       "95   TAX PTRATIO  1.541951  1.541951\n",
       "72        RM TAX -1.306650  1.306650\n",
       "68          RM^2  1.179009  1.179009\n",
       "7            DIS -1.047602  1.047602\n",
       "17      CRIM NOX -0.820785  0.820785\n",
       "97     TAX LSTAT -0.785497  0.785497\n",
       "81         AGE B -0.718725  0.718725\n",
       "103      LSTAT^2  0.627108  0.627108\n",
       "74          RM B  0.566839  0.566839\n",
       "48   INDUS LSTAT -0.517142  0.517142"
      ]
     },
     "execution_count": 32,
     "metadata": {},
     "output_type": "execute_result"
    }
   ],
   "source": [
    "# showing top 10 features having highest absolute coefficient value\n",
    "pd.DataFrame(zip(X_pf_col_name, las0015.coef_, abs(las0015.coef_))).sort_values(by=2, ascending=False)[:10] "
   ]
  },
  {
   "cell_type": "markdown",
   "id": "02bcc2ef",
   "metadata": {},
   "source": [
    "To recap:\n",
    "Simple LR: The top 5 features includes LSTAT, TAX, RAD, DIS, RM\n",
    "Polynomial LR: The top 5 features includes CRIM, TAX, RAD, PTRATIO\n",
    "\n",
    "By above analysis:\n",
    "Lasso LR: The top 5 features includes TAX, PTRATIO, RM, CRIM, NOX, DIS\n",
    "\n",
    "Those are in-common are: TAX, PTRATIO, RM, CRIM, DIS\n",
    "\n",
    "Based on above models, we can conclude that, Boston housing value below $50000 (MEDV) are mostly affected by\n",
    "tax rate, education (PTRATIO), size (RM), safetyness, & ease to going work.\n",
    "\n",
    "Data-dictionary recap:\n",
    "- TAX - full-value property-tax rate per \\\\$10,000\n",
    "- PTRATIO - pupil-teacher ratio by town\n",
    "- RM - average number of rooms per dwelling\n",
    "- CRIM - per capita crime rate by town \n",
    "- DIS - weighted distances to five Boston employment centres"
   ]
  },
  {
   "cell_type": "markdown",
   "id": "767c2970",
   "metadata": {},
   "source": [
    "## model evaluation & comparision"
   ]
  },
  {
   "cell_type": "code",
   "execution_count": 33,
   "id": "1fc7813a",
   "metadata": {},
   "outputs": [],
   "source": [
    "# Finding prediction on test set\n",
    "y_las_pred_bc = las0015.predict(X_pf_test_s)"
   ]
  },
  {
   "cell_type": "code",
   "execution_count": 34,
   "id": "360b2992",
   "metadata": {},
   "outputs": [],
   "source": [
    "# Inverse transform back to normal status (not the box-cox state)\n",
    "from scipy.special import inv_boxcox\n",
    "y_las_pred_tran = inv_boxcox(y_las_pred_bc, lam2)"
   ]
  },
  {
   "cell_type": "code",
   "execution_count": 35,
   "id": "360d3448",
   "metadata": {},
   "outputs": [
    {
     "name": "stdout",
     "output_type": "stream",
     "text": [
      "MSE 8.551564803252571\n",
      "R2 0.8631917858289884\n",
      "adj_R2 0.8594554270386037\n"
     ]
    }
   ],
   "source": [
    "MSE_simple = mean_squared_error(y_test,y_las_pred_tran)\n",
    "r2_simple = r2_score(y_test,y_las_pred_tran)\n",
    "\n",
    "print(\"MSE\",mean_squared_error(y_test,y_las_pred_tran))\n",
    "print(\"R2\",r2_score(y_test,y_las_pred_tran))\n",
    "\n",
    "Adj_r2 = 1 - (1-r2_score(y_test, y_las_pred_tran)) * (len(y)-1)/(len(y)-X.shape[1]-1)\n",
    "print(\"adj_R2\",Adj_r2)"
   ]
  },
  {
   "cell_type": "markdown",
   "id": "8ce1badd",
   "metadata": {},
   "source": [
    "To recap:\n",
    "simple linear regression:\n",
    "MSE 13.825142905821151\n",
    "R2 0.7788249103970966\n",
    "adj_R2 0.7727844142524795\n",
    "\n",
    "polynomial regression:\n",
    "MSE 10.258289520900945\n",
    "R2 0.8358875478240106\n",
    "adj_R2 0.8314054850544983\n",
    "\n",
    "lasso regression:\n",
    "MSE 8.551564803252571\n",
    "R2 0.8631917858289884\n",
    "adj_R2 0.8594554270386037\n",
    "\n",
    "Lasso regression with hyperparameter tuning has showing a great improve on polynomial regression in terms of MSE & R2 & adj-R2.\n",
    "i.e. smallest MSE, highest R2 & adj-R2\n",
    "\n",
    "Therefore, we should choose lasso regression model with alpha = 0.015. "
   ]
  },
  {
   "cell_type": "markdown",
   "id": "881d3c10",
   "metadata": {},
   "source": [
    "# Suggested-action for extra-mile"
   ]
  },
  {
   "cell_type": "markdown",
   "id": "2ef40465",
   "metadata": {},
   "source": [
    "We comes to an end for this analysis. However, there are always an extra mile for every analysis. On top of above analysis, investigator can build stepwise regression model & evaluated by MSE & R^2 to select the original features to further optimize the algorithm. \n",
    "\n",
    "Also, implementing K-fold cross-validation can take the average mean of evaluation metrics with more random splitting so to get a more general observations."
   ]
  }
 ],
 "metadata": {
  "kernelspec": {
   "display_name": "Python 3.9.7 ('base')",
   "language": "python",
   "name": "python3"
  },
  "language_info": {
   "codemirror_mode": {
    "name": "ipython",
    "version": 3
   },
   "file_extension": ".py",
   "mimetype": "text/x-python",
   "name": "python",
   "nbconvert_exporter": "python",
   "pygments_lexer": "ipython3",
   "version": "3.9.7"
  },
  "vscode": {
   "interpreter": {
    "hash": "a077222d77dfe082b8f1dd562ad70e458ac2ab76993a0b248ab0476e32e9e8dd"
   }
  }
 },
 "nbformat": 4,
 "nbformat_minor": 5
}
